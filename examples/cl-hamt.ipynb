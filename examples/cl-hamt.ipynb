{
 "cells": [
  {
   "cell_type": "code",
   "execution_count": null,
   "metadata": {
    "collapsed": false
   },
   "outputs": [],
   "source": [
    "(ql:quickload :cl-hamt)"
   ]
  },
  {
   "cell_type": "code",
   "execution_count": null,
   "metadata": {
    "collapsed": false
   },
   "outputs": [],
   "source": [
    "(use-package :cl-hamt)"
   ]
  },
  {
   "cell_type": "markdown",
   "metadata": {},
   "source": [
    "# Who is your daddy and what does he do\n",
    "\n",
    "This notebook contains demo code for the Common Lisp library `cl-hamt`.\n",
    "`cl-hamt` provides data structures for sets and dictionaries based on hash array-mapped tries.\n",
    "\n",
    "The implementation of HAMTs in this library is fully persistent.\n",
    "A persistent collection is never truly modified; rather, when one wishes to add an entry to a collection, a new collection is returned which contains the new element and the old, unmodified collection is preserved.\n",
    "The new augmented collection, however, shares as much structure as possible with the old collection.\n",
    "\n",
    "The garbage collector cleans up any old versions of data structures for us if we're not using them anymore.\n",
    "All told, these persistent collections don't use much more memory than their imperative counterparts.\n",
    "\n",
    "Since persistent collections are fundamentally immutable and one never makes destructive updates, they can be much easier to reason about and debug."
   ]
  },
  {
   "cell_type": "markdown",
   "metadata": {},
   "source": [
    "### Hash sets\n",
    "\n",
    "Some basic usage -- adding, removing entries -- of the set API is shown below."
   ]
  },
  {
   "cell_type": "code",
   "execution_count": null,
   "metadata": {
    "collapsed": false
   },
   "outputs": [],
   "source": [
    "(empty-set)"
   ]
  },
  {
   "cell_type": "code",
   "execution_count": null,
   "metadata": {
    "collapsed": false
   },
   "outputs": [],
   "source": [
    "(defvar lost-generation\n",
    "    (set-insert (empty-set)\n",
    "                \"Ernest Hemingway\"\n",
    "                \"F. Scott Fitzgerald\"\n",
    "                \"Gertrude Stein\"))"
   ]
  },
  {
   "cell_type": "code",
   "execution_count": null,
   "metadata": {
    "collapsed": false
   },
   "outputs": [],
   "source": [
    "(set-lookup lost-generation \"F. Scott Fitzgerald\")"
   ]
  },
  {
   "cell_type": "code",
   "execution_count": null,
   "metadata": {
    "collapsed": false
   },
   "outputs": [],
   "source": [
    "(set-lookup lost-generation \"Jack Kerouac\")"
   ]
  },
  {
   "cell_type": "code",
   "execution_count": null,
   "metadata": {
    "collapsed": false
   },
   "outputs": [],
   "source": [
    "(set-size lost-generation)"
   ]
  },
  {
   "cell_type": "markdown",
   "metadata": {},
   "source": [
    "Adding an entry to a set creates a new set; it does not modify the old one."
   ]
  },
  {
   "cell_type": "code",
   "execution_count": null,
   "metadata": {
    "collapsed": false
   },
   "outputs": [],
   "source": [
    "(defvar dude-writers (set-remove lost-generation \"Gertrude Stein\"))"
   ]
  },
  {
   "cell_type": "code",
   "execution_count": null,
   "metadata": {
    "collapsed": false
   },
   "outputs": [],
   "source": [
    "(set-lookup dude-writers \"Gertrude Stein\")"
   ]
  },
  {
   "cell_type": "code",
   "execution_count": null,
   "metadata": {
    "collapsed": false
   },
   "outputs": [],
   "source": [
    "(set-lookup lost-generation \"Gertrude Stein\")"
   ]
  },
  {
   "cell_type": "markdown",
   "metadata": {},
   "source": [
    "Reducing over a collection is the key means of performing an operation on all of its elements."
   ]
  },
  {
   "cell_type": "code",
   "execution_count": null,
   "metadata": {
    "collapsed": false
   },
   "outputs": [],
   "source": [
    "(set-reduce (lambda (name str)\n",
    "                    (concatenate 'string str (string #\\linefeed) name))\n",
    "            lost-generation\n",
    "            \"\")"
   ]
  },
  {
   "cell_type": "markdown",
   "metadata": {},
   "source": [
    "Note that HAMTs store the input by hashing it, which does not preserve any natural ordering (e.g. lexicographic) of the entries."
   ]
  }
 ],
 "metadata": {
  "kernelspec": {
   "display_name": "SBCL Lisp",
   "language": "lisp",
   "name": "lisp"
  },
  "language_info": {
   "codemirror_mode": "text/x-common-lisp",
   "mimetype": "text/x-common-lisp",
   "name": "common-lisp",
   "pygments_lexer": "common-lisp",
   "version": "X3J13"
  }
 },
 "nbformat": 4,
 "nbformat_minor": 0
}
